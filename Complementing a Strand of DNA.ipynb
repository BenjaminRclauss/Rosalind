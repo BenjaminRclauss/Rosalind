{
 "cells": [
  {
   "cell_type": "code",
   "execution_count": null,
   "id": "a4186b1c-5b92-4943-acfe-f48ff6ff7153",
   "metadata": {},
   "outputs": [],
   "source": [
    "Problem\n",
    "In DNA strings, symbols 'A' and 'T' are complements of each other, as are 'C' and 'G'.\n",
    "\n",
    "The reverse complement of a DNA string s\n",
    " is the string sc\n",
    " formed by reversing the symbols of s\n",
    ", then taking the complement of each symbol (e.g., the reverse complement of \"GTCA\" is \"TGAC\").\n",
    "\n",
    "Given: A DNA string s\n",
    " of length at most 1000 bp.\n",
    "\n",
    "Return: The reverse complement sc\n",
    " of s\n",
    ".\n",
    "\n",
    "Sample Dataset\n",
    "AAAACCCGGT\n",
    "Sample Output\n",
    "ACCGGGTTTT"
   ]
  },
  {
   "cell_type": "code",
   "execution_count": 16,
   "id": "6f6f8aa9-1fcc-4a23-969a-ca5b2dcc8682",
   "metadata": {},
   "outputs": [
    {
     "data": {
      "text/plain": [
       "'GCCGGGCATGGAACGGTTCTGTTTCACGGTATTTCCCAATGGCGACAAGCTTCACAAATACCGGTCGAAAGCGTCTGATCTCGAATACAGCAGTAATCTACCTACCACCCCCCGCTGCGCATGGAACGAGTTTCACTCAGGTCCAACGCCTATATTTGAAGAGTGTAGGTGCGCACAACACGAAGCCACGAGCTCCGGGGGCACAGCCCGGGGGGTACTAACGAACACAGCTCCCGTTTGGCTGCGCGCTTAGATCGACCGGAAATGTGTCCAATAAGTTCCCGTATCTTGACTGCAGTAGTAAAGCAAAAAACGAACACCATGCCGACAGCCTCTATAGGTTTTTAGGGTACCCGCTATGTGTGCCCCCGTCACTGAGGCTAACCCGTCATGACGTCACCCGGCGAGCTGTGCATCGCTTGTGTATGGATTTTCTGTGTGGTGCGCTGCTTAGGGTGGTACGGCGTAGAGCGTCGGGACCTCTTAAATGCGGTTAGATCCGTCGCGCGCATGCTCTCGCATGGACATTAATCTGTCAATACCCCCGCCACCAAACCGCTTGCCTCCTACTTGGAAGAGAATCTAATTTTCGTGATTTCATGACGTACATGTCGCGAGTGCCCCCTAGCCACGGCATAACACTTATCCATTCTATTAGCATACCGCTTCCGGTCCTCAGGAGTAGAGCTAGCGGGGTGTGATCCGACTTCGAGGACTAGGCACCTGAGTAGCAAAATAATTCCTCTGGGACTTAGACTTCCCATTTCGATTTACTAACTTGGTTGTGACCTGTGACACCTACAATCACGGACATACCTCTACTGTAGATAAGTATCC'"
      ]
     },
     "execution_count": 16,
     "metadata": {},
     "output_type": "execute_result"
    }
   ],
   "source": [
    "input = 'GGATACTTATCTACAGTAGAGGTATGTCCGTGATTGTAGGTGTCACAGGTCACAACCAAGTTAGTAAATCGAAATGGGAAGTCTAAGTCCCAGAGGAATTATTTTGCTACTCAGGTGCCTAGTCCTCGAAGTCGGATCACACCCCGCTAGCTCTACTCCTGAGGACCGGAAGCGGTATGCTAATAGAATGGATAAGTGTTATGCCGTGGCTAGGGGGCACTCGCGACATGTACGTCATGAAATCACGAAAATTAGATTCTCTTCCAAGTAGGAGGCAAGCGGTTTGGTGGCGGGGGTATTGACAGATTAATGTCCATGCGAGAGCATGCGCGCGACGGATCTAACCGCATTTAAGAGGTCCCGACGCTCTACGCCGTACCACCCTAAGCAGCGCACCACACAGAAAATCCATACACAAGCGATGCACAGCTCGCCGGGTGACGTCATGACGGGTTAGCCTCAGTGACGGGGGCACACATAGCGGGTACCCTAAAAACCTATAGAGGCTGTCGGCATGGTGTTCGTTTTTTGCTTTACTACTGCAGTCAAGATACGGGAACTTATTGGACACATTTCCGGTCGATCTAAGCGCGCAGCCAAACGGGAGCTGTGTTCGTTAGTACCCCCCGGGCTGTGCCCCCGGAGCTCGTGGCTTCGTGTTGTGCGCACCTACACTCTTCAAATATAGGCGTTGGACCTGAGTGAAACTCGTTCCATGCGCAGCGGGGGGTGGTAGGTAGATTACTGCTGTATTCGAGATCAGACGCTTTCGACCGGTATTTGTGAAGCTTGTCGCCATTGGGAAATACCGTGAAACAGAACCGTTCCATGCCCGGC'\n",
    "reverse = input[::-1]\n",
    "compliment = ''\n",
    "for i in reverse:\n",
    "    if i == 'A':\n",
    "        compliment = compliment + 'T'\n",
    "    elif i == 'T':\n",
    "        compliment = compliment + 'A'\n",
    "    elif i == 'C':\n",
    "        compliment = compliment + 'G'\n",
    "    elif i == 'G':\n",
    "        compliment = compliment + 'C'\n",
    "\n",
    "compliment"
   ]
  }
 ],
 "metadata": {
  "kernelspec": {
   "display_name": "Python 3 (ipykernel)",
   "language": "python",
   "name": "python3"
  },
  "language_info": {
   "codemirror_mode": {
    "name": "ipython",
    "version": 3
   },
   "file_extension": ".py",
   "mimetype": "text/x-python",
   "name": "python",
   "nbconvert_exporter": "python",
   "pygments_lexer": "ipython3",
   "version": "3.8.9"
  }
 },
 "nbformat": 4,
 "nbformat_minor": 5
}
