{
 "cells": [
  {
   "cell_type": "code",
   "execution_count": null,
   "id": "9de1f941-b89c-4ba4-96f4-3bd3cdb6fcca",
   "metadata": {},
   "outputs": [],
   "source": [
    "Problem\n",
    "\n",
    "Figure 4. A figure illustrating the propagation of Fibonacci's rabbits if they die after three months.\n",
    "Recall the definition of the Fibonacci numbers from “Rabbits and Recurrence Relations”, which followed the recurrence relation Fn=Fn−1+Fn−2\n",
    " and assumed that each pair of rabbits reaches maturity in one month and produces a single pair of offspring (one male, one female) each subsequent month.\n",
    "\n",
    "Our aim is to somehow modify this recurrence relation to achieve a dynamic programming solution in the case that all rabbits die out after a fixed number of months. See Figure 4 for a depiction of a rabbit tree in which rabbits live for three months (meaning that they reproduce only twice before dying).\n",
    "\n",
    "Given: Positive integers n≤100\n",
    " and m≤20\n",
    ".\n",
    "\n",
    "Return: The total number of pairs of rabbits that will remain after the n\n",
    "-th month if all rabbits live for m\n",
    " months.\n",
    "\n",
    "Sample Dataset\n",
    "6 3\n",
    "Sample Output\n",
    "4"
   ]
  },
  {
   "cell_type": "code",
   "execution_count": 10,
   "id": "fde26d61-527c-4f8b-85df-92b4885ffd14",
   "metadata": {},
   "outputs": [
    {
     "name": "stdout",
     "output_type": "stream",
     "text": [
      "4\n"
     ]
    }
   ],
   "source": [
    "n = 6\n",
    "k = 1\n",
    "a2 = 0\n",
    "a3 = 0\n",
    "babies = 1\n",
    "for i in range(n-1):\n",
    "    preg = a2+a3\n",
    "    a3 = a2\n",
    "    a2 = babies\n",
    "    babies = preg\n",
    "    total = a3+a2+babies\n",
    "print(total)\n",
    "\n"
   ]
  },
  {
   "cell_type": "code",
   "execution_count": 34,
   "id": "1856f506-c7e8-4364-ae53-53c1ea4dea2a",
   "metadata": {},
   "outputs": [
    {
     "name": "stdout",
     "output_type": "stream",
     "text": [
      "1763575302014503358\n"
     ]
    }
   ],
   "source": [
    "n = 89\n",
    "m = 17\n",
    "rabbits = [0]*(m+1)\n",
    "rabbits[1] = 1\n",
    "for i in range(n-1):\n",
    "    rabbits[0] = sum(rabbits[2:])\n",
    "    j = len(rabbits)-1\n",
    "    while j > 0:\n",
    "        rabbits[j] = rabbits[j-1]\n",
    "        j = j-1\n",
    "\n",
    "print(sum(rabbits[1:]))"
   ]
  },
  {
   "cell_type": "code",
   "execution_count": 31,
   "id": "99b176ac-f350-4506-b34c-5565ecf67d05",
   "metadata": {},
   "outputs": [
    {
     "data": {
      "text/plain": [
       "[2, 2, 1, 1]"
      ]
     },
     "execution_count": 31,
     "metadata": {},
     "output_type": "execute_result"
    }
   ],
   "source": [
    "rabbits"
   ]
  }
 ],
 "metadata": {
  "kernelspec": {
   "display_name": "Python 3 (ipykernel)",
   "language": "python",
   "name": "python3"
  },
  "language_info": {
   "codemirror_mode": {
    "name": "ipython",
    "version": 3
   },
   "file_extension": ".py",
   "mimetype": "text/x-python",
   "name": "python",
   "nbconvert_exporter": "python",
   "pygments_lexer": "ipython3",
   "version": "3.8.9"
  }
 },
 "nbformat": 4,
 "nbformat_minor": 5
}
