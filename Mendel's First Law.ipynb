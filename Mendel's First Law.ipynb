{
 "cells": [
  {
   "cell_type": "code",
   "execution_count": null,
   "id": "cb3938d2-38d3-440f-b093-ee0dc2393d9d",
   "metadata": {},
   "outputs": [],
   "source": [
    "Given: Three positive integers k\n",
    ", m\n",
    ", and n\n",
    ", representing a population containing k+m+n\n",
    " organisms: k\n",
    " individuals are homozygous dominant for a factor, m\n",
    " are heterozygous, and n\n",
    " are homozygous recessive.\n",
    "\n",
    "Return: The probability that two randomly selected mating organisms will produce an individual possessing a dominant allele (and thus displaying the dominant phenotype). Assume that any two organisms can mate.\n",
    "\n",
    "Sample Dataset\n",
    "2 2 2\n",
    "Sample Output\n",
    "0.78333"
   ]
  },
  {
   "cell_type": "code",
   "execution_count": 46,
   "id": "23902892-aa24-4f85-9ca4-9dc642b47180",
   "metadata": {},
   "outputs": [],
   "source": [
    "input = \"25 15 17\"\n",
    "input = input.split(\" \")\n",
    "k = int(input[0])\n",
    "m = int(input[1])\n",
    "n = int(input[2])\n",
    "t = k+m+n\n"
   ]
  },
  {
   "cell_type": "code",
   "execution_count": 47,
   "id": "b70d1dcc-62de-4bbf-b821-5d2179c68803",
   "metadata": {},
   "outputs": [
    {
     "data": {
      "text/plain": [
       "0.8184523809523808"
      ]
     },
     "execution_count": 47,
     "metadata": {},
     "output_type": "execute_result"
    }
   ],
   "source": [
    "a = (k/t)*((k-1)/(t-1))\n",
    "b = (k/t)*(m/(t-1))\n",
    "c = (k/t)*(n/(t-1))\n",
    "d = (m/t)*(k/(t-1))\n",
    "e = (m/t)*((m-1)/(t-1))*(3/4)\n",
    "f = (m/t)*(n/(t-1))*1/2\n",
    "g = c\n",
    "h = f\n",
    "a+b+c+d+e+f+g+h"
   ]
  }
 ],
 "metadata": {
  "kernelspec": {
   "display_name": "Python 3 (ipykernel)",
   "language": "python",
   "name": "python3"
  },
  "language_info": {
   "codemirror_mode": {
    "name": "ipython",
    "version": 3
   },
   "file_extension": ".py",
   "mimetype": "text/x-python",
   "name": "python",
   "nbconvert_exporter": "python",
   "pygments_lexer": "ipython3",
   "version": "3.8.9"
  }
 },
 "nbformat": 4,
 "nbformat_minor": 5
}
