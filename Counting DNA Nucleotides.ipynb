{
 "cells": [
  {
   "cell_type": "code",
   "execution_count": null,
   "id": "cc8a0afa-2d48-4b67-b242-b7a58c82ff0a",
   "metadata": {},
   "outputs": [],
   "source": [
    "A string is simply an ordered collection of symbols selected from some alphabet and formed into a word; the length of a string is the number of symbols that it contains.\n",
    "\n",
    "An example of a length 21 DNA string (whose alphabet contains the symbols 'A', 'C', 'G', and 'T') is \"ATGCTTCAGAAAGGTCTTACG.\"\n",
    "\n",
    "Given: A DNA string s\n",
    " of length at most 1000 nt.\n",
    "\n",
    "Return: Four integers (separated by spaces) counting the respective number of times that the symbols 'A', 'C', 'G', and 'T' occur in s\n",
    "."
   ]
  },
  {
   "cell_type": "code",
   "execution_count": null,
   "id": "3c2f0f7f-1534-4cf8-8652-ef6bc01ba1cd",
   "metadata": {},
   "outputs": [],
   "source": [
    "Sample Dataset\n",
    "AGCTTTTCATTCTGACTGCAACGGGCAATATGTCTCTGTGTGGATTAAAAAAAGAGTGTCTGATAGCAGC\n",
    "Sample Output\n",
    "20 12 17 21"
   ]
  },
  {
   "cell_type": "code",
   "execution_count": 1,
   "id": "1036310c-3c13-401f-b3b0-7c9bd120ef5a",
   "metadata": {},
   "outputs": [],
   "source": [
    "input = 'AGCTTTTCATTCTGACTGCAACGGGCAATATGTCTCTGTGTGGATTAAAAAAAGAGTGTCTGATAGCAGC'"
   ]
  },
  {
   "cell_type": "code",
   "execution_count": 6,
   "id": "1c5016fe-c414-44ed-8188-1e3d626dd377",
   "metadata": {},
   "outputs": [
    {
     "name": "stdout",
     "output_type": "stream",
     "text": [
      "20 12 17 21\n"
     ]
    }
   ],
   "source": [
    "A = input.count('A')\n",
    "C = input.count('C')\n",
    "T = input.count('T')\n",
    "G = input.count('G')\n",
    "print(A, C, G, T)"
   ]
  },
  {
   "cell_type": "code",
   "execution_count": 7,
   "id": "488474fd-7455-4307-8211-2d044d546b64",
   "metadata": {},
   "outputs": [
    {
     "name": "stdout",
     "output_type": "stream",
     "text": [
      "235 241 265 249\n"
     ]
    }
   ],
   "source": [
    "input = 'ACATGCACAGTGTCCTAACCGTATTTCCCCAGGCCTCATGGCCTCTCCATGCATTCTGCAAGCGTACTCCAGCACCCATGCATTGTGGGATGGTTAGTCATCAAGTGGAAACTTACGAGTACTTTAGATCTGGAACCAGGAAGTTGAACCTATTATAGTTGCGTTCGTAGTTAACCTGGGTTTGCCGACGGTCCGGAGCATCAGTACCTATCGCTCTGCCCCTTCTGGAACTCCAGCTTAGGTATGTGGCCATTTAACCATATCCTATGACGACATCAAAAACAGGAAGACCTAGCTATCGATTGCATAACCCCGGCAAATGAATACCGGTCCAGGCCCGGACAGGGAATTTTAATAAACCGACGTACTTTGCTCTGGAAGAACGACACGGATGTCGTGAGTTGTGTCAAGACCAAGAGTATCGGTGGGTGGTTGAGGGGTAAACAGAGCTACGAATGTGACCAAATACATCTACCGTCGTCTTTTCGATGGGAGGCTCTCCGTATTAGACCACTCGCAATCTACATCATCAGAGAGAGCTTGAGACTACTTGTAGACCCGATTGACTTCCCAGGAGGCTAGTGGGTGTACGAGGGCTGACCTGTGTCTCTAATGGGACAGGGTTGGTGTAGGCGCGCGCGGCTACAGGCCAGAACTAGACTTTGGTGGGCTTTGCTATAGGTCCTGTATATCTCGTGGGTTGCCGATTGTTGACGTTGGACGGCGATTAGAGAAGGCCCCCCGAGCTTGGGGTGGTACTCAGCAACTCCGTGAGGCTCTTCGTGACTTGCCTCTGTCTACATGCTGGTCACGTCGGGCTGGTTTTTCTTGCGTAGACACGCCGAGGATGCCCACTAATGGGCAGCTTTCCGCCATGAAAAACATTGATAATTGCCCACTCTGGGTGCGAGGGAAGGAGGTCGTGCGTAAATGAAATACAAGTGCCGTCTGACACCCAATGCCCCTAGGCTGCTTTAAAAATTCCGCTAA'\n",
    "A = input.count('A')\n",
    "C = input.count('C')\n",
    "T = input.count('T')\n",
    "G = input.count('G')\n",
    "print(A, C, G, T)\n"
   ]
  }
 ],
 "metadata": {
  "kernelspec": {
   "display_name": "Python 3 (ipykernel)",
   "language": "python",
   "name": "python3"
  },
  "language_info": {
   "codemirror_mode": {
    "name": "ipython",
    "version": 3
   },
   "file_extension": ".py",
   "mimetype": "text/x-python",
   "name": "python",
   "nbconvert_exporter": "python",
   "pygments_lexer": "ipython3",
   "version": "3.8.9"
  }
 },
 "nbformat": 4,
 "nbformat_minor": 5
}
