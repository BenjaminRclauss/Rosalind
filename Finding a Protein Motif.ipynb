{
 "cells": [
  {
   "cell_type": "code",
   "execution_count": null,
   "id": "be0dc866-58de-425a-aa35-e0e44629dbba",
   "metadata": {},
   "outputs": [],
   "source": [
    "Problem\n",
    "To allow for the presence of its varying forms, a protein motif is represented by a shorthand as follows: [XY] means \"either X or Y\" and {X} means \"any amino acid except X.\" For example, the N-glycosylation motif is written as N{P}[ST]{P}.\n",
    "\n",
    "You can see the complete description and features of a particular protein by its access ID \"uniprot_id\" in the UniProt database, by inserting the ID number into\n",
    "\n",
    "http://www.uniprot.org/uniprot/uniprot_id\n",
    "Alternatively, you can obtain a protein sequence in FASTA format by following\n",
    "\n",
    "http://www.uniprot.org/uniprot/uniprot_id.fasta\n",
    "For example, the data for protein B5ZC00 can be found at http://www.uniprot.org/uniprot/B5ZC00.\n",
    "\n",
    "Given: At most 15 UniProt Protein Database access IDs.\n",
    "\n",
    "Return: For each protein possessing the N-glycosylation motif, output its given access ID followed by a list of locations in the protein string where the motif can be found.\n",
    "\n",
    "Sample Dataset\n",
    "A2Z669\n",
    "B5ZC00\n",
    "P07204_TRBM_HUMAN\n",
    "P20840_SAG1_YEAST\n",
    "Sample Output\n",
    "B5ZC00\n",
    "85 118 142 306 395\n",
    "P07204_TRBM_HUMAN\n",
    "47 115 116 382 409\n",
    "P20840_SAG1_YEAST\n",
    "79 109 135 248 306 348 364 402 485 501 614"
   ]
  },
  {
   "cell_type": "code",
   "execution_count": 5,
   "id": "62a6fadf-c553-4a82-b230-eacd0c2d2d1e",
   "metadata": {},
   "outputs": [],
   "source": [
    "import requests as r\n",
    "from Bio import SeqIO\n",
    "from io import StringIO\n",
    "import regex as re"
   ]
  },
  {
   "cell_type": "code",
   "execution_count": 6,
   "id": "89249e00-2f41-4e05-9f75-494c4f76707d",
   "metadata": {},
   "outputs": [],
   "source": [
    "def id_to_seq(ID):\n",
    "    cID=ID\n",
    "    baseUrl=\"http://www.uniprot.org/uniprot/\"\n",
    "    currentUrl=baseUrl+cID+\".fasta\"\n",
    "    response = r.post(currentUrl)\n",
    "    response = str(list(response))\n",
    "    return \"\".join(str(response).split(\"\\\\n\")[1:]).replace(\"', b'\", \"\").replace(\"']\",\"\")"
   ]
  },
  {
   "cell_type": "code",
   "execution_count": 7,
   "id": "6a029a7a-4904-494b-8dd0-d1977f793503",
   "metadata": {},
   "outputs": [],
   "source": [
    "data = '''P01044_KNH1_BOVIN\n",
    "P13671_CO6_HUMAN\n",
    "Q82ZQ1\n",
    "P20268\n",
    "P98119_URT1_DESRO\n",
    "P02186\n",
    "B4S2L7\n",
    "P08514_ITAB_HUMAN\n",
    "P04278_SSBP_HUMAN\n",
    "P02974_FMM1_NEIGO\n",
    "P49286\n",
    "A1JP66\n",
    "P10643_CO7_HUMAN\n",
    "P42098_ZP3_PIG\n",
    "Q05557'''\n",
    "proc = data.split('\\n')\n",
    "names = data.split('\\n')\n",
    "for i in range(len(proc)):\n",
    "    if \"_\" in proc[i]:\n",
    "        proc[i] = proc[i].split(\"_\")[0]"
   ]
  },
  {
   "cell_type": "code",
   "execution_count": 8,
   "id": "f0303cb2-3621-43d8-acf2-06b9f77cc633",
   "metadata": {},
   "outputs": [
    {
     "name": "stdout",
     "output_type": "stream",
     "text": [
      "P01044_KNH1_BOVIN\n",
      "47 87 168 169 197 204\n",
      "P13671_CO6_HUMAN\n",
      "324 855\n",
      "P20268\n",
      "26 126 268\n",
      "P98119_URT1_DESRO\n",
      "153 398\n",
      "B4S2L7\n",
      "33\n",
      "P08514_ITAB_HUMAN\n",
      "46 280 601 711 962\n",
      "P04278_SSBP_HUMAN\n",
      "380 396\n",
      "P02974_FMM1_NEIGO\n",
      "67 68 121\n",
      "P49286\n",
      "4 130\n",
      "P10643_CO7_HUMAN\n",
      "202 754\n",
      "P42098_ZP3_PIG\n",
      "124 146 179 271\n"
     ]
    }
   ],
   "source": [
    "seqs = []\n",
    "for i in range(len(proc)):\n",
    "    seqs.append(id_to_seq(proc[i]))\n",
    "    \n",
    "seq_dic = dict(zip(names, seqs))\n",
    "motifs = []\n",
    "for i in range(len(seq_dic.values())):\n",
    "    motifs.append(re.findall(r'N[^P][ST][^P]', list(seq_dic.values())[i],overlapped=True))\n",
    "\n",
    "motifs_dict = dict(zip(names, motifs))\n",
    "for i in range(len(motifs_dict.values())):\n",
    "    if len(list(motifs_dict.values())[i]) >0:\n",
    "        print(list(motifs_dict.keys())[i])\n",
    "        rslt = []\n",
    "        for j in range(len(list(motifs_dict.values())[i])):            \n",
    "           rslt.append(int(list(seq_dic.values())[i].index(list(motifs_dict.values())[i][j]))+1)\n",
    "        print(str(rslt).replace('[', \"\").replace(']', \"\").replace(',', \"\"))\n"
   ]
  },
  {
   "cell_type": "code",
   "execution_count": null,
   "id": "df94ef5a-515e-47b8-a1df-d124e03d0e51",
   "metadata": {},
   "outputs": [],
   "source": []
  }
 ],
 "metadata": {
  "kernelspec": {
   "display_name": "Python 3 (ipykernel)",
   "language": "python",
   "name": "python3"
  },
  "language_info": {
   "codemirror_mode": {
    "name": "ipython",
    "version": 3
   },
   "file_extension": ".py",
   "mimetype": "text/x-python",
   "name": "python",
   "nbconvert_exporter": "python",
   "pygments_lexer": "ipython3",
   "version": "3.8.9"
  }
 },
 "nbformat": 4,
 "nbformat_minor": 5
}
