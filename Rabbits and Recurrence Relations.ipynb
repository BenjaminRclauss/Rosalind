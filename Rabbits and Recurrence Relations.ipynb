{
 "cells": [
  {
   "cell_type": "code",
   "execution_count": null,
   "id": "cfa76c1c-8670-43a2-b2e1-ccf4ef749aea",
   "metadata": {},
   "outputs": [],
   "source": [
    "Problem\n",
    "A sequence is an ordered collection of objects (usually numbers), which are allowed to repeat. Sequences can be finite or infinite. Two examples are the finite sequence (π,−2‾√,0,π)\n",
    " and the infinite sequence of odd numbers (1,3,5,7,9,…)\n",
    ". We use the notation an\n",
    " to represent the n\n",
    "-th term of a sequence.\n",
    "\n",
    "A recurrence relation is a way of defining the terms of a sequence with respect to the values of previous terms. In the case of Fibonacci's rabbits from the introduction, any given month will contain the rabbits that were alive the previous month, plus any new offspring. A key observation is that the number of offspring in any month is equal to the number of rabbits that were alive two months prior. As a result, if Fn\n",
    " represents the number of rabbit pairs alive after the n\n",
    "-th month, then we obtain the Fibonacci sequence having terms Fn\n",
    " that are defined by the recurrence relation Fn=Fn−1+Fn−2\n",
    " (with F1=F2=1\n",
    " to initiate the sequence). Although the sequence bears Fibonacci's name, it was known to Indian mathematicians over two millennia ago.\n",
    "\n",
    "When finding the n\n",
    "-th term of a sequence defined by a recurrence relation, we can simply use the recurrence relation to generate terms for progressively larger values of n\n",
    ". This problem introduces us to the computational technique of dynamic programming, which successively builds up solutions by using the answers to smaller cases.\n",
    "\n",
    "Given: Positive integers n≤40\n",
    " and k≤5\n",
    ".\n",
    "\n",
    "Return: The total number of rabbit pairs that will be present after n\n",
    " months, if we begin with 1 pair and in each generation, every pair of reproduction-age rabbits produces a litter of k\n",
    " rabbit pairs (instead of only 1 pair).\n",
    "\n",
    "Sample Dataset\n",
    "5 3\n",
    "Sample Output\n",
    "19"
   ]
  },
  {
   "cell_type": "code",
   "execution_count": 7,
   "id": "cab07e5e-30b8-4841-98a3-e2d59924ddb1",
   "metadata": {},
   "outputs": [
    {
     "data": {
      "text/plain": [
       "11453246123"
      ]
     },
     "execution_count": 7,
     "metadata": {},
     "output_type": "execute_result"
    }
   ],
   "source": [
    "n = 35\n",
    "k = 2\n",
    "adults = 1\n",
    "babies = 0\n",
    "preg = 0\n",
    "for i in range(n):\n",
    "    adults = adults + babies\n",
    "    babies =  preg\n",
    "    preg = adults * k\n",
    "\n",
    "adults"
   ]
  }
 ],
 "metadata": {
  "kernelspec": {
   "display_name": "Python 3 (ipykernel)",
   "language": "python",
   "name": "python3"
  },
  "language_info": {
   "codemirror_mode": {
    "name": "ipython",
    "version": 3
   },
   "file_extension": ".py",
   "mimetype": "text/x-python",
   "name": "python",
   "nbconvert_exporter": "python",
   "pygments_lexer": "ipython3",
   "version": "3.8.9"
  }
 },
 "nbformat": 4,
 "nbformat_minor": 5
}
