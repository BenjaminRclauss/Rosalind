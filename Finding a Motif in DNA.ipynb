{
 "cells": [
  {
   "cell_type": "code",
   "execution_count": null,
   "id": "947c4433-94de-4050-b230-adf6ee64b333",
   "metadata": {},
   "outputs": [],
   "source": [
    "Given: Two DNA strings s\n",
    " and t\n",
    " (each of length at most 1 kbp).\n",
    "\n",
    "Return: All locations of t\n",
    " as a substring of s\n",
    ".\n",
    "\n",
    "Sample Dataset\n",
    "GATATATGCATATACTT\n",
    "ATAT\n",
    "Sample Output\n",
    "2 4 10"
   ]
  },
  {
   "cell_type": "code",
   "execution_count": 32,
   "id": "e351e321-e026-4477-be08-16a9f4bb5758",
   "metadata": {},
   "outputs": [],
   "source": [
    "input = '''TCATTTACCACCATTTACCCGAATTTACCAATCTTGCATTTACCATTTACCGGTTGAATTTACCTATTTACCATTTACCATTTACCCATTTACCATTTACCATTTACCGGGATTTACCGCATTTACCAATTTACCCCGCATTTACCTTGATTTACCATTTACCGTAATTTACCCGGTGATTTACCAACATTTACCGGCTATTTACCACCGCATTTACCACAAATTTACCTATCATACTTATTTACCCATTATTTACCATTTACCAATTCATTTACCAATGATTTACCAATTTACCATTTACCAAGCTATTTACCACGAATCGAATTTACCATTTACCCGGGGATTTACCAATTTACCTATTTACCATTTACCGGAAATTTACCATTTACCAATGTGCCAGGGGATTTACCATTTACCCATAATTTACCCGATTTACCATTTACCGGATTTACCTAGCTCTATTTACCGATTTACCAATTTACCTAACAAATCATTTACCAAGCATTTACCACATTTACCATTTACCCGGATTTACCATTTACCCATTTACCATTTACCCGTGCGGGAAATTTACCATATTTACCGATTTACCCTCATCATTTACCATTATTTACCAAACAATTTACCATTTACCTAATTTACCCGATTTACCGATTTACCAGAAATTTACCTTCCTACTGTTATTTACCATGATTTACCGTTGGCTGATTTACCGCTGATTTACCGTATAATTTACCATTTACCAATTTACCCATGATTTACCGATTTACCAGGATTTACCATTTACCAATTTACCATATTTACCCCAATGTGTCAAATTTACCGTGAGATTTCGTATTTACCAAATTTACCGCATTTACCATTTACCGTATCACTATTTACCCTATTTACCCGCATTTACCATTTACCGGCGATTTACC\n",
    "ATTTACCAT'''\n",
    "seq = input.split('\\n')[0]\n",
    "motif = input.split('\\n')[1]\n"
   ]
  },
  {
   "cell_type": "code",
   "execution_count": 35,
   "id": "f0ad0b79-54cf-4590-bd23-91fe6165d002",
   "metadata": {},
   "outputs": [
    {
     "data": {
      "text/plain": [
       "'ATTTACCAT'"
      ]
     },
     "execution_count": 35,
     "metadata": {},
     "output_type": "execute_result"
    }
   ],
   "source": [
    "motif"
   ]
  },
  {
   "cell_type": "code",
   "execution_count": 39,
   "id": "9e7f4744-88b9-4a97-9c94-9cae2f404f6c",
   "metadata": {},
   "outputs": [
    {
     "data": {
      "text/plain": [
       "'38 66 73 88 95 150 251 289 324 359 377 404 431 513 530 545 569 599 621 683 731 775 790 855 896'"
      ]
     },
     "execution_count": 39,
     "metadata": {},
     "output_type": "execute_result"
    }
   ],
   "source": [
    "pos = ''\n",
    "for i in range(len(seq)):\n",
    "    if seq[i:i+len(motif)] == motif:\n",
    "        pos = pos+ str(i+1) +\" \"\n",
    "    \n",
    "pos[:-1]"
   ]
  }
 ],
 "metadata": {
  "kernelspec": {
   "display_name": "Python 3 (ipykernel)",
   "language": "python",
   "name": "python3"
  },
  "language_info": {
   "codemirror_mode": {
    "name": "ipython",
    "version": 3
   },
   "file_extension": ".py",
   "mimetype": "text/x-python",
   "name": "python",
   "nbconvert_exporter": "python",
   "pygments_lexer": "ipython3",
   "version": "3.8.9"
  }
 },
 "nbformat": 4,
 "nbformat_minor": 5
}
